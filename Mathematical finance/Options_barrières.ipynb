{
 "cells": [
  {
   "cell_type": "code",
   "execution_count": null,
   "metadata": {},
   "outputs": [],
   "source": [
    "# TP 4 - Options barrières\n",
    "\n",
    "import numpy as np\n",
    "from scipy.stats import binom\n",
    "\n",
    "n = 100 # nombre d'étapes\n",
    "T = 1.0 # temps final\n",
    "deltat = T/n # pas de temps\n",
    "S0 = 140 # prix initial\n",
    "sigma = 0.1 # volatilité\n",
    "up = np.exp(sigma*np.sqrt(deltat)) # up\n",
    "down = 1/up # down\n",
    "\n",
    "# taux d'intérêt et facteur d'actualisation\n",
    "r = 0.1\n",
    "R = np.exp(r*deltat)\n",
    "\n",
    "# probabilité risque neutre\n",
    "p = (R-down)/(up-down)\n",
    "\n",
    "print(\"p =\",p)"
   ]
  },
  {
   "cell_type": "code",
   "execution_count": null,
   "metadata": {},
   "outputs": [],
   "source": [
    "# matrice des prix de l'actif (TP1)\n",
    "def CRR(n,down,up,S0):\n",
    "    S = np.zeros((n+1,n+1))\n",
    "    S[0,0] = S0\n",
    "    for i in range(n):\n",
    "        S[i+1,0] = S[i,0]*down\n",
    "        for j in range(i+1):\n",
    "            S[i+1,j+1] = S[i,j]*up\n",
    "    return S\n"
   ]
  },
  {
   "cell_type": "code",
   "execution_count": null,
   "metadata": {},
   "outputs": [],
   "source": [
    "S = CRR(n,down,up,S0)\n",
    "S"
   ]
  },
  {
   "cell_type": "code",
   "execution_count": null,
   "metadata": {},
   "outputs": [],
   "source": [
    "# paramètres de l'option\n",
    "K = 120 # strike\n",
    "L = 130 # barrière\n",
    "\n",
    "def payoffcall(S,K):\n",
    "    phicall = np.maximum(S-K,0) # option d'achat\n",
    "    return phicall\n",
    "\n",
    "def payoffput(S,K):\n",
    "    phiput = np.maximum(K-S,0) # option de vente\n",
    "    return phiput\n"
   ]
  },
  {
   "cell_type": "code",
   "execution_count": null,
   "metadata": {},
   "outputs": [],
   "source": [
    "# évaluation du prix d'un call européen par récurrence rétrograde\n",
    "C = np.zeros((n+1,n+1))\n",
    "for j in range(n+1):\n",
    "    C[n,j] = payoffcall(S[n,j],K)\n",
    "for i in range(n-1,-1,-1):\n",
    "    for j in range(i+1):\n",
    "        C[i,j] = (p*C[i+1,j+1]+(1-p)*C[i+1,j])/R\n"
   ]
  },
  {
   "cell_type": "code",
   "execution_count": null,
   "metadata": {},
   "outputs": [],
   "source": [
    "print(\"La prime du contrat call européen vaut C0 =\",C[0,0])"
   ]
  },
  {
   "cell_type": "code",
   "execution_count": null,
   "metadata": {
    "scrolled": true
   },
   "outputs": [],
   "source": [
    "# calcul des valeurs de l'option par formule binomiale directe\n",
    "CC = np.zeros((n+1,n+1))\n",
    "for j in range(n+1):\n",
    "    CC[n,j] = payoffcall(S[n,j],K)\n",
    "for i in range(n+1):\n",
    "    for j in range(i+1):\n",
    "        CC[i,j] = np.dot(payoffcall(S[n,j:j+n-i+1],K),binom.pmf(range(n-i+1),n-i,p))/R**(n-i)\n"
   ]
  },
  {
   "cell_type": "code",
   "execution_count": null,
   "metadata": {},
   "outputs": [],
   "source": [
    "print(\"La prime du contrat call européen vaut C0 =\",CC[0,0])"
   ]
  },
  {
   "cell_type": "code",
   "execution_count": null,
   "metadata": {},
   "outputs": [],
   "source": [
    "# indicatrice de la région sous la barrière (option D-I-C)\n",
    "# indice = 1 => on est sous L (option active); indice = 0 => on est au dessus de L\n",
    "def sousL(i,j):\n",
    "    if (S[i,j]<=L):\n",
    "        indice = 1\n",
    "    else:\n",
    "        indice = 0\n",
    "    return indice"
   ]
  },
  {
   "cell_type": "code",
   "execution_count": null,
   "metadata": {},
   "outputs": [],
   "source": [
    "sousL(100,47)\n",
    "S[100,46:48]"
   ]
  },
  {
   "cell_type": "code",
   "execution_count": null,
   "metadata": {},
   "outputs": [],
   "source": [
    "# évaluation du prix d'une option barrière DIC par récurrence rétrograde\n",
    "DIC = np.zeros((n+1,n+1,2)) # la 3ème entrée permet de gérer si on est déjà passé sous L\n",
    "# initialisation par la valeur finale\n",
    "for j in range(n+1):\n",
    "    # k=0: on n'est pas passé en dessous de L (=> option inactive)\n",
    "    DIC[n,j,0] = 0\n",
    "    # k=1: on est passé sous L (=> option active)\n",
    "    DIC[n,j,1] = payoffcall(S[n,j],K)\n",
    "# récurrence rétrograde\n",
    "for i in range(n-1,-1,-1):\n",
    "    for j in range(i+1):\n",
    "        # k = 0: on n'est pas passé sous L JUSQUE LA!\n",
    "        DIC[i,j,0] = (p*DIC[i+1,j+1,0]+(1-p)*DIC[i+1,j,sousL(i+1,j)])/R\n",
    "        # k = 1: on est passé sous L avant => option active\n",
    "        DIC[i,j,1] = (p*DIC[i+1,j+1,1]+(1-p)*DIC[i+1,j,1])/R"
   ]
  },
  {
   "cell_type": "code",
   "execution_count": null,
   "metadata": {},
   "outputs": [],
   "source": [
    "print(\"La prime du contrat DIC vaut DIC0 =\",DIC[0,0,0]) # on suppose S0 > L"
   ]
  },
  {
   "cell_type": "code",
   "execution_count": null,
   "metadata": {},
   "outputs": [],
   "source": [
    "# en fait DIC[:,:,1] == C (call classique)\n",
    "np.amax(abs(DIC[:,:,1]-C[:,:]))"
   ]
  },
  {
   "cell_type": "code",
   "execution_count": null,
   "metadata": {},
   "outputs": [],
   "source": [
    "# évaluation du prix d'une option barrière DOC par récurrence rétrograde\n",
    "DOC = np.zeros((n+1,n+1,2)) # la 3ème entrée permet de gérer si on est déjà passé sous L\n",
    "# initialisation par la valeur finale\n",
    "for j in range(n+1):\n",
    "    # k=0: on n'est pas passé en dessous de L (=> option toujours active)\n",
    "    DOC[n,j,0] = payoffcall(S[n,j],K)\n",
    "    # k=1: on est passé sous L (=> option désactivée)\n",
    "    DOC[n,j,1] = 0\n",
    "# récurrence rétrograde\n",
    "for i in range(n-1,-1,-1):\n",
    "    for j in range(i+1):\n",
    "        # k = 0: on n'est pas passé sous L JUSQUE LA! (toujours active)\n",
    "        DOC[i,j,0] = (p*DOC[i+1,j+1,0]+(1-p)*DOC[i+1,j,sousL(i+1,j)])/R\n",
    "        # k = 1: on est passé sous L avant => option désactivée\n",
    "        DOC[i,j,1] = (p*DOC[i+1,j+1,1]+(1-p)*DOC[i+1,j,1])/R"
   ]
  },
  {
   "cell_type": "code",
   "execution_count": null,
   "metadata": {},
   "outputs": [],
   "source": [
    "print(\"La prime du contrat DOC vaut DOC0 =\",DOC[0,0,0]) # on suppose S0 > L"
   ]
  },
  {
   "cell_type": "code",
   "execution_count": null,
   "metadata": {},
   "outputs": [],
   "source": [
    "# en fait, DOC[:,:,1] == 0\n",
    "DOC[:,:,1]"
   ]
  },
  {
   "cell_type": "code",
   "execution_count": null,
   "metadata": {},
   "outputs": [],
   "source": [
    "# on compare DIC, DOC et C\n",
    "print(\"La prime du contrat Call vaut C0 =\",C[0,0])\n",
    "print(\"La prime du contrat DIC vaut DIC0 =\",DIC[0,0,0])\n",
    "print(\"La prime du contrat DOC vaut DOC0 =\",DOC[0,0,0])\n",
    "print(\"La somme DIC0 + DOC0 vaut\",DIC[0,0,0]+DOC[0,0,0])\n"
   ]
  },
  {
   "cell_type": "code",
   "execution_count": null,
   "metadata": {},
   "outputs": [],
   "source": [
    "# Calcul DIC0 par somme directe binomiale\n",
    "# on veut adapter:\n",
    "# CC[0,0] = np.dot(payoffcall(S[n,0:n+1],K),binom.pmf(range(n+1),n,p))/R**(n)\n",
    "# indices correspondant à la barrière et au strike\n",
    "indl = int(np.floor((n+np.log(L/S0)/np.log(up))/2))\n",
    "indk = 1+int(np.floor((n+np.log(K/S0)/np.log(up))/2))\n",
    "indJ = int(np.floor(n+np.log(L/S0)/np.log(up)))\n",
    "if (K<L):\n",
    "    # 1ère somme binomiale: de indk à indl (au lieu de 0 à n)\n",
    "    DIC0 = np.dot(payoffcall(S[n,indk:indl+1],K),binom.pmf(range(indk,indl+1),n,p)) # première somme partielle binomiale\n",
    "    # 2ème somme de indl+1 à indJ\n",
    "    DIC0 += np.dot(payoffcall(S[n,indl+1:indJ+1],K),binom.pmf(range(indJ-indl-1,-1,-1),n,1-p))*(p/(1-p))**(indJ-n)# deuxième somme partielle binomiale\n",
    "    # attention, il faut des coeffs binomiaux differents des puissances de p et 1-p...\n",
    "    DIC0 = DIC0/R**n # actualisation\n"
   ]
  },
  {
   "cell_type": "code",
   "execution_count": null,
   "metadata": {},
   "outputs": [],
   "source": [
    "print(\"La prime du contrat DIC vaut DIC0 =\",DIC0)"
   ]
  },
  {
   "cell_type": "code",
   "execution_count": null,
   "metadata": {},
   "outputs": [],
   "source": [
    "indJ = int(n+np.floor(np.log(L/S0)/np.log(up)))\n",
    "indl = int(np.floor((n+np.log(L/S0)/np.log(up))/2))\n",
    "indk = 1+int(np.floor((n+np.log(K/S0)/np.log(up))/2))\n",
    "print(indJ,indl,indk)"
   ]
  },
  {
   "cell_type": "code",
   "execution_count": null,
   "metadata": {},
   "outputs": [],
   "source": [
    "S[100,46:48]"
   ]
  },
  {
   "cell_type": "code",
   "execution_count": null,
   "metadata": {},
   "outputs": [],
   "source": []
  }
 ],
 "metadata": {
  "kernelspec": {
   "display_name": "Python 3",
   "language": "python",
   "name": "python3"
  },
  "language_info": {
   "codemirror_mode": {
    "name": "ipython",
    "version": 3
   },
   "file_extension": ".py",
   "mimetype": "text/x-python",
   "name": "python",
   "nbconvert_exporter": "python",
   "pygments_lexer": "ipython3",
   "version": "3.8.1"
  }
 },
 "nbformat": 4,
 "nbformat_minor": 4
}
