{
 "cells": [
  {
   "cell_type": "code",
   "execution_count": null,
   "metadata": {},
   "outputs": [],
   "source": [
    "# TP 2 - Espérance conditionnelle (reprendre le TP1 au début)\n",
    "\n",
    "import numpy as np\n",
    "\n",
    "n = 100 # nombre d'étapes\n",
    "T = 1.0 # temps final\n",
    "deltat = T/n # pas de temps\n",
    "S0 = 80 # prix initial\n",
    "sigma = 0.1 # volatilité\n",
    "up = np.exp(sigma*np.sqrt(deltat)) # up\n",
    "down = 1/up # down\n",
    "\n",
    "# taux d'intérêt et facteur d'actualisation\n",
    "r = 0.1\n",
    "R = np.exp(r*deltat)\n",
    "\n",
    "# probabilité risque neutre\n",
    "p = (R-down)/(up-down)\n",
    "\n",
    "print(\"p =\",p)"
   ]
  },
  {
   "cell_type": "code",
   "execution_count": null,
   "metadata": {},
   "outputs": [],
   "source": [
    "# matrice des prix de l'actif\n",
    "def CRR(n,down,up,S0):\n",
    "    S = np.zeros((n+1,n+1))\n",
    "    S[0,0] = S0\n",
    "    for i in range(n):\n",
    "        S[i+1,0] = S[i,0]*down\n",
    "        for j in range(i+1):\n",
    "            S[i+1,j+1] = S[i,j]*up\n",
    "    return S\n"
   ]
  },
  {
   "cell_type": "code",
   "execution_count": null,
   "metadata": {},
   "outputs": [],
   "source": [
    "S = CRR(n,down,up,S0)\n",
    "S"
   ]
  },
  {
   "cell_type": "code",
   "execution_count": null,
   "metadata": {},
   "outputs": [],
   "source": [
    "# paramètres de l'option\n",
    "K = S0 # strike (ici, option à la \"monnaie\")\n",
    "\n",
    "def payoff(S,K):\n",
    "    phi = max(S-K,0) # option d'achat\n",
    "    #phi = max(K-S,0) # option de vente\n",
    "    return phi\n"
   ]
  },
  {
   "cell_type": "code",
   "execution_count": null,
   "metadata": {},
   "outputs": [],
   "source": [
    "# évaluation du prix de l'option par récurrence rétrograde\n",
    "C = np.zeros((n+1,n+1))\n",
    "for j in range(n+1):\n",
    "    C[n,j] = payoff(S[n,j],K)\n",
    "for i in range(n-1,-1,-1):\n",
    "    for j in range(i+1):\n",
    "        C[i,j] = (p*C[i+1,j+1]+(1-p)*C[i+1,j])/R\n"
   ]
  },
  {
   "cell_type": "code",
   "execution_count": null,
   "metadata": {},
   "outputs": [],
   "source": [
    "print(\"La prime du contrat vaut C0 =\",C[0,0])"
   ]
  },
  {
   "cell_type": "code",
   "execution_count": null,
   "metadata": {},
   "outputs": [],
   "source": [
    "from scipy.stats import binom\n",
    "\n",
    "# calcul des valeurs de l'option par formule binomiale directe\n",
    "CC = np.zeros((n+1,n+1))\n",
    "for j in range(n+1):\n",
    "    CC[n,j] = payoff(S[n,j],K)\n",
    "for i in range(n+1):\n",
    "    for j in range(i+1):\n",
    "        for k in range(n-i+1):\n",
    "            CC[i,j] += payoff(S[n,j+k],K)*binom.pmf(k,n-i,p)\n",
    "        CC[i,j] = CC[i,j]/R**(n-i)\n"
   ]
  },
  {
   "cell_type": "code",
   "execution_count": null,
   "metadata": {},
   "outputs": [],
   "source": [
    "print(\"La prime du contrat vaut C0=\",CC[0,0])\n",
    "print(\"Erreur entre les 2 calculs =\",np.amax(C-CC))"
   ]
  },
  {
   "cell_type": "code",
   "execution_count": null,
   "metadata": {
    "scrolled": true
   },
   "outputs": [],
   "source": [
    "# librairies graphiques\n",
    "import matplotlib.pyplot as plt\n",
    "import matplotlib.collections as mc\n",
    "\n",
    "# liste des couples de points\n",
    "lines = []\n",
    "for i in range(0,n+1,20):\n",
    "    for j in range(i):\n",
    "        lines.append([(S[i,j],C[i,j]),(S[i,j+1],C[i,j+1])])\n",
    "\n",
    "# plot\n",
    "lc = mc.LineCollection(lines, cmap=plt.cm.rainbow, linewidths=2)\n",
    "fig,ax = plt.subplots()\n",
    "ax.set_xlim(0,S.max())\n",
    "ax.set_ylim(0,C.max())\n",
    "ax.add_collection(lc)\n",
    "plt.show()\n"
   ]
  },
  {
   "cell_type": "code",
   "execution_count": null,
   "metadata": {},
   "outputs": [],
   "source": [
    "# Variations de la prime en fonction du strike\n",
    "deltaK = int(S0/10) # on fait varier le strike K entre 0 et 160\n",
    "CCK = np.zeros(20)\n",
    "for l in range(20):\n",
    "    Ktmp = l*deltaK # strike temporaire\n",
    "    # formule binomiale directe (cf matrice CC) pour i = 0 et j = 0\n",
    "    for k in range(n+1):\n",
    "        CCK[l] += payoff(S[n,k],Ktmp)*binom.pmf(k,n,p)\n",
    "    CCK[l] = CCK[l]/R**n\n",
    "    "
   ]
  },
  {
   "cell_type": "code",
   "execution_count": null,
   "metadata": {},
   "outputs": [],
   "source": [
    "plt.plot(range(0,20*deltaK,deltaK),CCK)\n",
    "plt.show()"
   ]
  },
  {
   "cell_type": "code",
   "execution_count": null,
   "metadata": {},
   "outputs": [],
   "source": [
    "# Variations de la prime en fonction de la volatilité\n",
    "deltasigma = 0.02 # on fait varier sigma entre 0.02 et 0.4\n",
    "CCsigma = np.zeros(20)\n",
    "sigmatab = np.zeros(20)\n",
    "for l in range(20):\n",
    "    sigmatab[l] = (l+1)*deltasigma # volatilité temporaire\n",
    "    uptmp = np.exp((l+1)*deltasigma*np.sqrt(deltat)) # on recalcule le up\n",
    "    downtmp = 1/uptmp # et le down\n",
    "    Stmp = CRR(n,downtmp,uptmp,S0) # et l'arbre des prix de l'actif\n",
    "    ptmp = (R-downtmp)/(uptmp-downtmp) # et la probabilité p\n",
    "    for k in range(n+1):\n",
    "        CCsigma[l] += payoff(Stmp[n,k],K)*binom.pmf(k,n,ptmp)\n",
    "    CCsigma[l] = CCsigma[l]/R**n\n"
   ]
  },
  {
   "cell_type": "code",
   "execution_count": null,
   "metadata": {},
   "outputs": [],
   "source": [
    "plt.plot(sigmatab,CCsigma)\n",
    "plt.show()"
   ]
  },
  {
   "cell_type": "code",
   "execution_count": null,
   "metadata": {},
   "outputs": [],
   "source": []
  },
  {
   "cell_type": "code",
   "execution_count": null,
   "metadata": {},
   "outputs": [],
   "source": []
  }
 ],
 "metadata": {
  "kernelspec": {
   "display_name": "Python 3",
   "language": "python",
   "name": "python3"
  },
  "language_info": {
   "codemirror_mode": {
    "name": "ipython",
    "version": 3
   },
   "file_extension": ".py",
   "mimetype": "text/x-python",
   "name": "python",
   "nbconvert_exporter": "python",
   "pygments_lexer": "ipython3",
   "version": "3.8.1"
  }
 },
 "nbformat": 4,
 "nbformat_minor": 4
}
