{
 "cells": [
  {
   "cell_type": "code",
   "execution_count": null,
   "metadata": {},
   "outputs": [],
   "source": [
    "# TP 2 - Options américaines (reprendre le TP2 au début)\n",
    "\n",
    "import numpy as np\n",
    "\n",
    "n = 100 # nombre d'étapes\n",
    "T = 1.0 # temps final\n",
    "deltat = T/n # pas de temps\n",
    "S0 = 80 # prix initial\n",
    "sigma = 0.1 # volatilité\n",
    "up = np.exp(sigma*np.sqrt(deltat)) # up\n",
    "down = 1/up # down\n",
    "\n",
    "# taux d'intérêt et facteur d'actualisation\n",
    "r = 0.1\n",
    "R = np.exp(r*deltat)\n",
    "\n",
    "# probabilité risque neutre\n",
    "p = (R-down)/(up-down)\n",
    "\n",
    "print(\"p =\",p)"
   ]
  },
  {
   "cell_type": "code",
   "execution_count": null,
   "metadata": {},
   "outputs": [],
   "source": [
    "# matrice des prix de l'actif (TP1)\n",
    "def CRR(n,down,up,S0):\n",
    "    S = np.zeros((n+1,n+1))\n",
    "    S[0,0] = S0\n",
    "    for i in range(n):\n",
    "        S[i+1,0] = S[i,0]*down\n",
    "        for j in range(i+1):\n",
    "            S[i+1,j+1] = S[i,j]*up\n",
    "    return S\n"
   ]
  },
  {
   "cell_type": "code",
   "execution_count": null,
   "metadata": {},
   "outputs": [],
   "source": [
    "S = CRR(n,down,up,S0)\n",
    "S"
   ]
  },
  {
   "cell_type": "code",
   "execution_count": null,
   "metadata": {},
   "outputs": [],
   "source": [
    "# paramètres de l'option\n",
    "K = S0 # strike (ici, option à la \"monnaie\")\n",
    "\n",
    "def payoffcall(S,K):\n",
    "    phicall = max(S-K,0) # option d'achat\n",
    "    return phicall\n",
    "\n",
    "def payoffput(S,K):\n",
    "    phiput = max(K-S,0) # option de vente\n",
    "    return phiput\n"
   ]
  },
  {
   "cell_type": "code",
   "execution_count": null,
   "metadata": {},
   "outputs": [],
   "source": [
    "# évaluation du prix d'un call européen par récurrence rétrograde\n",
    "C = np.zeros((n+1,n+1))\n",
    "for j in range(n+1):\n",
    "    C[n,j] = payoffcall(S[n,j],K)\n",
    "for i in range(n-1,-1,-1):\n",
    "    for j in range(i+1):\n",
    "        C[i,j] = (p*C[i+1,j+1]+(1-p)*C[i+1,j])/R\n"
   ]
  },
  {
   "cell_type": "code",
   "execution_count": null,
   "metadata": {},
   "outputs": [],
   "source": [
    "print(\"La prime du contrat call européen vaut C0 =\",C[0,0])"
   ]
  },
  {
   "cell_type": "code",
   "execution_count": null,
   "metadata": {
    "scrolled": true
   },
   "outputs": [],
   "source": [
    "# librairies graphiques\n",
    "import matplotlib.pyplot as plt\n",
    "import matplotlib.collections as mc\n",
    "\n",
    "# liste des couples de points\n",
    "lines = []\n",
    "for i in range(0,n+1,20):\n",
    "    for j in range(i):\n",
    "        lines.append([(S[i,j],C[i,j]),(S[i,j+1],C[i,j+1])])\n",
    "\n",
    "# plot\n",
    "lc = mc.LineCollection(lines, cmap=plt.cm.rainbow, linewidths=2)\n",
    "fig,ax = plt.subplots()\n",
    "ax.set_xlim(0,S.max())\n",
    "ax.set_ylim(0,C.max())\n",
    "ax.add_collection(lc)\n",
    "plt.show()\n"
   ]
  },
  {
   "cell_type": "code",
   "execution_count": null,
   "metadata": {},
   "outputs": [],
   "source": [
    "# évaluation du prix d'un call américain par récurrence rétrograde\n",
    "CA = np.zeros((n+1,n+1))\n",
    "for j in range(n+1):\n",
    "    CA[n,j] = payoffcall(S[n,j],K)\n",
    "for i in range(n-1,-1,-1):\n",
    "    for j in range(i+1):\n",
    "        CA[i,j] = max(payoffcall(S[i,j],K),(p*CA[i+1,j+1]+(1-p)*CA[i+1,j])/R)\n"
   ]
  },
  {
   "cell_type": "code",
   "execution_count": null,
   "metadata": {},
   "outputs": [],
   "source": [
    "# on représente l'option américaine en fonction du prix de l'actif\n",
    "lines = []\n",
    "for i in range(0,n+1,20):\n",
    "    for j in range(i):\n",
    "        lines.append([(S[i,j],CA[i,j]),(S[i,j+1],CA[i,j+1])])\n",
    "\n",
    "# plot\n",
    "lc = mc.LineCollection(lines, cmap=plt.cm.rainbow, linewidths=2)\n",
    "fig,ax = plt.subplots()\n",
    "ax.set_xlim(0,S.max())\n",
    "ax.set_ylim(0,C.max())\n",
    "ax.add_collection(lc)\n",
    "plt.show()\n"
   ]
  },
  {
   "cell_type": "code",
   "execution_count": null,
   "metadata": {},
   "outputs": [],
   "source": [
    "# put européen\n",
    "P = np.zeros((n+1,n+1))\n",
    "for j in range(n+1):\n",
    "    P[n,j] = payoffput(S[n,j],K)\n",
    "for i in range(n-1,-1,-1):\n",
    "    for j in range(i+1):\n",
    "        P[i,j] = (p*P[i+1,j+1]+(1-p)*P[i+1,j])/R\n",
    "\n",
    "# put américain\n",
    "PA = np.zeros((n+1,n+1))\n",
    "for j in range(n+1):\n",
    "    PA[n,j] = payoffput(S[n,j],K)\n",
    "for i in range(n-1,-1,-1):\n",
    "    for j in range(i+1):\n",
    "        PA[i,j] = max(payoffput(S[i,j],K),(p*PA[i+1,j+1]+(1-p)*PA[i+1,j])/R)\n"
   ]
  },
  {
   "cell_type": "code",
   "execution_count": null,
   "metadata": {},
   "outputs": [],
   "source": [
    "# on représente le put européen en fonction du prix de l'actif\n",
    "lines = []\n",
    "for i in range(0,n+1,20):\n",
    "    for j in range(i):\n",
    "        lines.append([(S[i,j],P[i,j]),(S[i,j+1],P[i,j+1])])\n",
    "\n",
    "# plot\n",
    "lc = mc.LineCollection(lines, cmap=plt.cm.rainbow, linewidths=2)\n",
    "fig,ax = plt.subplots()\n",
    "ax.set_xlim(0,S.max())\n",
    "ax.set_ylim(0,C.max())\n",
    "ax.add_collection(lc)\n",
    "plt.show()\n"
   ]
  },
  {
   "cell_type": "code",
   "execution_count": null,
   "metadata": {},
   "outputs": [],
   "source": [
    "# on représente le put américain en fonction du prix de l'actif\n",
    "lines = []\n",
    "for i in range(0,n+1,20):\n",
    "    for j in range(i):\n",
    "        lines.append([(S[i,j],PA[i,j]),(S[i,j+1],PA[i,j+1])])\n",
    "\n",
    "# plot\n",
    "lc = mc.LineCollection(lines, cmap=plt.cm.rainbow, linewidths=2)\n",
    "fig,ax = plt.subplots()\n",
    "ax.set_xlim(0,S.max())\n",
    "ax.set_ylim(0,C.max())\n",
    "ax.add_collection(lc)\n",
    "plt.show()\n"
   ]
  },
  {
   "cell_type": "code",
   "execution_count": null,
   "metadata": {},
   "outputs": [],
   "source": [
    "print('Les primes sont: call européen:',C[0,0],' - call américain:',CA[0,0])\n",
    "print('Les primes sont: put européen:',P[0,0],' - put américain:',PA[0,0])\n"
   ]
  },
  {
   "cell_type": "code",
   "execution_count": null,
   "metadata": {},
   "outputs": [],
   "source": [
    "# frontière d'exercice du put américain\n",
    "EPA = 3*np.ones((n+1,n+1)) # 0 si on attend, 1 si on exerce\n",
    "for j in range(n+1):\n",
    "    if S[n,j]<=K:\n",
    "        EPA[n,j]=1\n",
    "    else:\n",
    "        EPA[n,j]=0\n",
    "for i in range(n-1,-1,-1):\n",
    "    for j in range(i+1):\n",
    "        if payoffput(S[i,j],K) > (p*PA[i+1,j+1]+(1-p)*PA[i+1,j])/R:\n",
    "            EPA[i,j]=1\n",
    "        else:\n",
    "            EPA[i,j]=0\n"
   ]
  },
  {
   "cell_type": "code",
   "execution_count": null,
   "metadata": {},
   "outputs": [],
   "source": [
    "for i in range(n+1):\n",
    "    for j in range(i+1):\n",
    "        if EPA[i,j]==1: # exercice anticipé\n",
    "            plt.plot(i,S[i,j],'ro')\n",
    "        else: # on attend (pas d'exercice anticipé)\n",
    "            plt.plot(i,S[i,j],'b+')\n"
   ]
  },
  {
   "cell_type": "code",
   "execution_count": null,
   "metadata": {},
   "outputs": [],
   "source": [
    "# recherche de la frontière\n",
    "F = np.zeros(n+1) # prix correspondant à l'indice maximal de la zone rouge\n",
    "for i in range(n+1):\n",
    "    prixrouge = S[i,EPA[i,:]==1] # prix de la zone rouge\n",
    "    if prixrouge.size>0:\n",
    "        F[i] = np.amax(prixrouge) # on récupère le prix max des rouges\n",
    "F"
   ]
  },
  {
   "cell_type": "code",
   "execution_count": null,
   "metadata": {},
   "outputs": [],
   "source": [
    "# on dessine la frontière rouge\n",
    "indice = np.amin(np.nonzero(F)) # indice temporel du début de la zone rouge\n",
    "plt.plot(range(indice,n+1),F[indice:n+1])"
   ]
  },
  {
   "cell_type": "code",
   "execution_count": null,
   "metadata": {},
   "outputs": [],
   "source": []
  },
  {
   "cell_type": "code",
   "execution_count": null,
   "metadata": {},
   "outputs": [],
   "source": []
  }
 ],
 "metadata": {
  "kernelspec": {
   "display_name": "Python 3",
   "language": "python",
   "name": "python3"
  },
  "language_info": {
   "codemirror_mode": {
    "name": "ipython",
    "version": 3
   },
   "file_extension": ".py",
   "mimetype": "text/x-python",
   "name": "python",
   "nbconvert_exporter": "python",
   "pygments_lexer": "ipython3",
   "version": "3.8.1"
  }
 },
 "nbformat": 4,
 "nbformat_minor": 4
}
