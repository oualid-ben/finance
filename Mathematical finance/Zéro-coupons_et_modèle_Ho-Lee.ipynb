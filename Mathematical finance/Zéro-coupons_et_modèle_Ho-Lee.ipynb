{
 "cells": [
  {
   "cell_type": "code",
   "execution_count": null,
   "metadata": {},
   "outputs": [],
   "source": [
    "# Zéro coupons et modèle de Ho-Lee\n",
    "\n",
    "import numpy as np\n",
    "import matplotlib.pyplot as plt\n",
    "\n",
    "# paramètres généraux\n",
    "Nmax = 10 # nombre d'étapes\n",
    "Tmax = Nmax # temps final\n",
    "deltat = Tmax/Nmax # pas de temps\n",
    "pi = 0.5 # proba modèle Ho-Lee\n",
    "delta = 1.02 # mesure de volatilité Ho-Lee\n",
    "r = 0.02 # rendement"
   ]
  },
  {
   "cell_type": "code",
   "execution_count": null,
   "metadata": {},
   "outputs": [],
   "source": [
    "# évaluation des valeurs initiales des 0-coupons:\n",
    "# chaque année, le prix est multiplié par (1+r)\n",
    "# donc au bout de k étapes (k*deltat années), le prix est\n",
    "# multiplié par (1+r)^(k*deltat), et il vaudra 1 euro\n",
    "def Z0(k):\n",
    "    z0 = (1+r)**(-k*deltat)\n",
    "    return z0"
   ]
  },
  {
   "cell_type": "code",
   "execution_count": null,
   "metadata": {},
   "outputs": [],
   "source": [
    "# dessin des valeurs initiales des 0-coupons\n",
    "plt.plot(range(100),Z0(np.arange(100)))"
   ]
  },
  {
   "cell_type": "code",
   "execution_count": null,
   "metadata": {},
   "outputs": [],
   "source": [
    "# fonction eta du modèle Ho-Lee\n",
    "def eta(l,x): # x = 0 (down) ou 1 (up); l = nb d'étapes entre t et T => l = theta/deltat\n",
    "    if x==0:\n",
    "        e = 1/(pi+(1-pi)*delta**l)\n",
    "    else:\n",
    "        e = delta**l/(pi+(1-pi)*delta**l)\n",
    "    return e"
   ]
  },
  {
   "cell_type": "code",
   "execution_count": null,
   "metadata": {},
   "outputs": [],
   "source": [
    "# dessin des valeurs de eta\n",
    "plt.plot(range(100),eta(np.arange(100),0))\n",
    "plt.plot(range(100),eta(np.arange(100),1))"
   ]
  },
  {
   "cell_type": "code",
   "execution_count": null,
   "metadata": {},
   "outputs": [],
   "source": [
    "1/(1.02)**1"
   ]
  },
  {
   "cell_type": "code",
   "execution_count": null,
   "metadata": {},
   "outputs": [],
   "source": [
    "# calcul des 0-coupons Z(n,j,k) par récurrence:\n",
    "# t = n*deltat (temps courant), T = k*deltat (temps final), j = #up\n",
    "Z = -np.ones((Nmax+1,Nmax+1,Nmax+1))\n",
    "# initialisation à t=0 (donc n=0)\n",
    "Z[0,0,:] = Z0(np.arange(Nmax+1))\n",
    "# boucle sur t\n",
    "for n in range(1,Nmax+1):\n",
    "    for k in range(n,Nmax+1):\n",
    "        # j = 0 (on n'a jamais fait de up => on vient de faire un down)\n",
    "        Z[n,0,k] = Z[n-1,0,k]/Z[n-1,0,n]*eta(k-n,0)\n",
    "        # boucle sur j=1..n (on peut supposer qu'on vient de faire up)\n",
    "        for j in range(1,n+1):\n",
    "            Z[n,j,k] = Z[n-1,j-1,k]/Z[n-1,j-1,n]*eta(k-n,1)"
   ]
  },
  {
   "cell_type": "code",
   "execution_count": null,
   "metadata": {},
   "outputs": [],
   "source": [
    "Z"
   ]
  },
  {
   "cell_type": "code",
   "execution_count": null,
   "metadata": {
    "scrolled": true
   },
   "outputs": [],
   "source": [
    "# dessin des 0-coupons\n",
    "for i in range(Nmax+1):\n",
    "    # courbes down\n",
    "    plt.plot(range(i,Nmax+1),Z[i:Nmax+1,i,Nmax],'b')\n",
    "    # courbes up\n",
    "    plt.plot(range(i,Nmax+1),Z[[j for j in range(i,Nmax+1)],[j for j in range(Nmax+1-i)],Nmax],'r')"
   ]
  },
  {
   "cell_type": "code",
   "execution_count": null,
   "metadata": {
    "scrolled": true
   },
   "outputs": [],
   "source": [
    "# taux correspondants\n",
    "Y = -np.ones((Nmax+1,Nmax+1,Nmax+1))\n",
    "for n in range(Nmax+1):\n",
    "    for j in range(n+1):\n",
    "        for k in range(n+1,Nmax+1):\n",
    "            Y[n,j,k] = -np.log(Z[n,j,k])/((k-n)*deltat)"
   ]
  },
  {
   "cell_type": "code",
   "execution_count": null,
   "metadata": {},
   "outputs": [],
   "source": [
    "# dessin des taux\n",
    "for i in range(Nmax+1):\n",
    "    # courbes down\n",
    "    plt.plot(range(i,Nmax),Y[i:Nmax,i,Nmax],'b')\n",
    "    # courbes up\n",
    "    plt.plot(range(i,Nmax),Y[[j for j in range(i,Nmax)],[j for j in range(Nmax-i)],Nmax],'r')"
   ]
  },
  {
   "cell_type": "code",
   "execution_count": null,
   "metadata": {},
   "outputs": [],
   "source": [
    "Y[:,0,Nmax]"
   ]
  },
  {
   "cell_type": "code",
   "execution_count": null,
   "metadata": {},
   "outputs": [],
   "source": [
    "# taux actuariels\n",
    "A = -np.ones((Nmax+1,Nmax+1,Nmax+1))\n",
    "for n in range(Nmax+1):\n",
    "    for j in range(n+1):\n",
    "        for k in range(n+1,Nmax+1):\n",
    "            A[n,j,k] = np.exp(-np.log(Z[n,j,k])/((k-n)*deltat))-1"
   ]
  },
  {
   "cell_type": "code",
   "execution_count": null,
   "metadata": {},
   "outputs": [],
   "source": [
    "# dessin des taux actuariels\n",
    "for i in range(Nmax+1):\n",
    "    # courbes down\n",
    "    plt.plot(range(i,Nmax),A[i:Nmax,i,Nmax],'b')\n",
    "    # courbes up\n",
    "    plt.plot(range(i,Nmax),A[[j for j in range(i,Nmax)],[j for j in range(Nmax-i)],Nmax],'r')"
   ]
  },
  {
   "cell_type": "code",
   "execution_count": null,
   "metadata": {},
   "outputs": [],
   "source": [
    "# caplets (option d'achat qui couvre contre une envolée des taux)\n",
    "K = 0.035 # strike: taux plafond à 3.5%"
   ]
  },
  {
   "cell_type": "code",
   "execution_count": null,
   "metadata": {},
   "outputs": [],
   "source": [
    "# option d'achat\n",
    "C = -np.ones((Nmax+1,Nmax+1,Nmax+1))\n",
    "for k in range(1,Nmax+1):\n",
    "    n=k # on est à l'échéance: t=T\n",
    "    for j in range(n+1):\n",
    "        # à T-dt, le zéro coupon vaut Z(k-1,j,k)\n",
    "        # or Z(k-1,j,k)*(1+r_T) = Z(k,j,k) = 1\n",
    "        # donc 1+r_T = 1/Z(k-1,j,k)\n",
    "        C[n,j,k] = max(((1/Z[k-1,j,k])-1)-K,0) # payoff\n",
    "    n=k-1 # on est juste avant l'échéance: t=T-dt\n",
    "    for j in range(n+1):\n",
    "        # C(n,j,k) = E(C(n+1,j,k))/(1+r_T)\n",
    "        # or 1/(1+r_T) = Z(k-1,j,k)\n",
    "        C[n,j,k] = C[n+1,j,k]*Z[k-1,j,k]\n",
    "    for n in range(k-2,-1,-1): # récurrence rétrograde\n",
    "        for j in range(n+1):\n",
    "            # C(n,j,k) = E(C(n+1,j,k))/(1+r_(t+dt))\n",
    "            # or 1/(1+r_(t+dt)) = Z(n,j,n+1) car Z(n+1,j,n+1)=1\n",
    "            C[n,j,k] = (pi*C[n+1,j,k]+(1-pi)*C[n+1,j+1,k])*Z[n,j,n+1]\n"
   ]
  },
  {
   "cell_type": "code",
   "execution_count": null,
   "metadata": {},
   "outputs": [],
   "source": [
    "print('Equivalent en taux de la couverture finale, en %:')\n",
    "print(C[0,0,Nmax]*100)"
   ]
  },
  {
   "cell_type": "code",
   "execution_count": null,
   "metadata": {},
   "outputs": [],
   "source": [
    "print('Couverture caplet à échéance finale pour 100k€:')\n",
    "print(C[0,0,Nmax]*100000)"
   ]
  },
  {
   "cell_type": "code",
   "execution_count": null,
   "metadata": {},
   "outputs": [],
   "source": [
    "print('Equivalent en taux de la couverture cap à toutes échéances, en %:')\n",
    "print(sum(C[0,0,1:Nmax+1])*100)"
   ]
  },
  {
   "cell_type": "code",
   "execution_count": null,
   "metadata": {},
   "outputs": [],
   "source": [
    "print('Couverture cap à toutes échéances (10 ans) pour 100k€:')\n",
    "print(sum(C[0,0,1:Nmax+1])*100000)"
   ]
  },
  {
   "cell_type": "code",
   "execution_count": null,
   "metadata": {},
   "outputs": [],
   "source": []
  }
 ],
 "metadata": {
  "kernelspec": {
   "display_name": "Python 3",
   "language": "python",
   "name": "python3"
  },
  "language_info": {
   "codemirror_mode": {
    "name": "ipython",
    "version": 3
   },
   "file_extension": ".py",
   "mimetype": "text/x-python",
   "name": "python",
   "nbconvert_exporter": "python",
   "pygments_lexer": "ipython3",
   "version": "3.8.1"
  }
 },
 "nbformat": 4,
 "nbformat_minor": 4
}
