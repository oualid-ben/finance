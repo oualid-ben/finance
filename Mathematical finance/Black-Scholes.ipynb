{
 "cells": [
  {
   "cell_type": "code",
   "execution_count": null,
   "metadata": {},
   "outputs": [],
   "source": [
    "# Black-Scholes\n",
    "\n",
    "import numpy as np\n",
    "from scipy.stats import binom\n",
    "from scipy.stats import norm\n",
    "import matplotlib.pyplot as plt\n",
    "import time\n",
    "\n",
    "# paramètres généraux\n",
    "S0 = 140 # prix initial\n",
    "T = 1.0 # temps final\n",
    "K = 140 # strike\n",
    "r = 0.1 # rendement\n",
    "sigma = 0.1 # volatilité"
   ]
  },
  {
   "cell_type": "code",
   "execution_count": null,
   "metadata": {},
   "outputs": [],
   "source": [
    "# Call Black-Scholes\n",
    "def CallBS(S0,T,K,r,sigma):\n",
    "    d1 = (np.log(S0/K)+(r+sigma**2/2)*T)/(sigma*np.sqrt(T))\n",
    "    d2 = (np.log(S0/K)+(r-sigma**2/2)*T)/(sigma*np.sqrt(T))\n",
    "    C = S0*norm.cdf(d1)-K*np.exp(-r*T)*norm.cdf(d2)\n",
    "    return C"
   ]
  },
  {
   "cell_type": "code",
   "execution_count": null,
   "metadata": {},
   "outputs": [],
   "source": [
    "CallBS(S0,T,K,r,sigma)\n"
   ]
  },
  {
   "cell_type": "code",
   "execution_count": null,
   "metadata": {},
   "outputs": [],
   "source": [
    "# Put Black-Scholes\n",
    "def PutBS(S0,T,K,r,sigma):\n",
    "    d1 = (np.log(S0/K)+(r+sigma**2/2)*T)/(sigma*np.sqrt(T))\n",
    "    d2 = (np.log(S0/K)+(r-sigma**2/2)*T)/(sigma*np.sqrt(T))\n",
    "    P = K*np.exp(-r*T)*norm.cdf(-d2)-S0*norm.cdf(-d1)\n",
    "    return P"
   ]
  },
  {
   "cell_type": "code",
   "execution_count": null,
   "metadata": {},
   "outputs": [],
   "source": [
    "PutBS(S0,T,K,r,sigma)"
   ]
  },
  {
   "cell_type": "code",
   "execution_count": null,
   "metadata": {},
   "outputs": [],
   "source": [
    "%timeit PutBS(S0,T,K,r,sigma) # estime le temps de calcul de la commande"
   ]
  },
  {
   "cell_type": "code",
   "execution_count": null,
   "metadata": {},
   "outputs": [],
   "source": [
    "# autre solution - Put Black-Scholes\n",
    "def PutBS2(S0,T,K,r,sigma):\n",
    "    C = CallBS(S0,T,K,r,sigma)\n",
    "    P = C-S0+K*np.exp(-r*T)\n",
    "    return P"
   ]
  },
  {
   "cell_type": "code",
   "execution_count": null,
   "metadata": {
    "scrolled": true
   },
   "outputs": [],
   "source": [
    "PutBS2(S0,T,K,r,sigma)"
   ]
  },
  {
   "cell_type": "code",
   "execution_count": null,
   "metadata": {},
   "outputs": [],
   "source": [
    "# Call CRR\n",
    "def CallCRR(n,S0,T,K,r,sigma):\n",
    "    up = np.exp(sigma*np.sqrt(T/n))\n",
    "    R = np.exp(r*T/n)\n",
    "    p = (R-(1/up))/(up-(1/up))\n",
    "    ST = S0*up**np.arange(-n,n+1,2) # prix finaux de l'actif\n",
    "    C = np.exp(-r*T)*np.dot(binom.pmf(range(n+1),n,p),np.maximum(ST-K,0)) # formule binomiale directe\n",
    "    return C"
   ]
  },
  {
   "cell_type": "code",
   "execution_count": null,
   "metadata": {},
   "outputs": [],
   "source": [
    "np.maximum(np.arange(-10,11,2),0)\n"
   ]
  },
  {
   "cell_type": "code",
   "execution_count": null,
   "metadata": {},
   "outputs": [],
   "source": [
    "CallCRR(100,S0,T,K,r,sigma)"
   ]
  },
  {
   "cell_type": "code",
   "execution_count": null,
   "metadata": {},
   "outputs": [],
   "source": [
    "%timeit CallCRR(1000000,S0,T,K,r,sigma)"
   ]
  },
  {
   "cell_type": "code",
   "execution_count": null,
   "metadata": {},
   "outputs": [],
   "source": [
    "# autre solution - Call CRR\n",
    "def CallCRR2(n,S0,T,K,r,sigma):\n",
    "    up = np.exp(sigma*np.sqrt(T/n))\n",
    "    R = np.exp(r*T/n)\n",
    "    p = (R-(1/up))/(up-(1/up))\n",
    "    q = p*up/R\n",
    "    k = int(np.ceil((n+np.log(K/S0)/np.log(up))/2)) # indice immédiatement au-dessus du strike\n",
    "    C = S0*(1-binom.cdf(k-1,n,q))-K*np.exp(-r*T)*(1-binom.cdf(k-1,n,p)) # somme binomiale partielle\n",
    "    return C"
   ]
  },
  {
   "cell_type": "code",
   "execution_count": null,
   "metadata": {},
   "outputs": [],
   "source": [
    "CallCRR2(100,S0,T,K,r,sigma)"
   ]
  },
  {
   "cell_type": "code",
   "execution_count": null,
   "metadata": {},
   "outputs": [],
   "source": [
    "%timeit CallCRR2(1000000,S0,T,K,r,sigma) # beaucoup plus rapide, car n'assemble pas de vecteur de taille n"
   ]
  },
  {
   "cell_type": "code",
   "execution_count": null,
   "metadata": {},
   "outputs": [],
   "source": [
    "# Put CRR\n",
    "def PutCRR(n,S0,T,K,r,sigma):\n",
    "    up = np.exp(sigma*np.sqrt(T/n))\n",
    "    R = np.exp(r*T/n)\n",
    "    p = (R-(1/up))/(up-(1/up))\n",
    "    ST = S0*up**np.arange(-n,n+1,2) # prix finaux de l'actif\n",
    "    P = np.exp(-r*T)*np.dot(binom.pmf(range(n+1),n,p),np.maximum(K-ST,0)) # formule binomiale directe\n",
    "    return P"
   ]
  },
  {
   "cell_type": "code",
   "execution_count": null,
   "metadata": {},
   "outputs": [],
   "source": [
    "PutCRR(100,S0,T,K,r,sigma)"
   ]
  },
  {
   "cell_type": "code",
   "execution_count": null,
   "metadata": {},
   "outputs": [],
   "source": [
    "# autre solution - Put CRR\n",
    "def PutCRR2(n,S0,T,K,r,sigma):\n",
    "    up = np.exp(sigma*np.sqrt(T/n))\n",
    "    R = np.exp(r*T/n)\n",
    "    p = (R-(1/up))/(up-(1/up))\n",
    "    q = p*up/R\n",
    "    k = int(np.ceil((n+np.log(K/S0)/np.log(up))/2)) # indice immédiatement au-dessus du strike\n",
    "    P = K*np.exp(-r*T)*(binom.cdf(k-1,n,p))-S0*(binom.cdf(k-1,n,q)) # somme binomiale partielle\n",
    "    return P"
   ]
  },
  {
   "cell_type": "code",
   "execution_count": null,
   "metadata": {},
   "outputs": [],
   "source": [
    "PutCRR2(100,S0,T,K,r,sigma)"
   ]
  },
  {
   "cell_type": "code",
   "execution_count": null,
   "metadata": {},
   "outputs": [],
   "source": [
    "# autre autre solution - Put CRR\n",
    "def PutCRR3(n,S0,T,K,r,sigma):\n",
    "    C = CallCRR2(n,S0,T,K,r,sigma) # ou CallCRR, mais CallCRR2 est plus rapide\n",
    "    P = C-S0+K*np.exp(-r*T)\n",
    "    return P"
   ]
  },
  {
   "cell_type": "code",
   "execution_count": null,
   "metadata": {},
   "outputs": [],
   "source": [
    "PutCRR3(100,S0,T,K,r,sigma)"
   ]
  },
  {
   "cell_type": "code",
   "execution_count": null,
   "metadata": {},
   "outputs": [],
   "source": [
    "# convergence CRR => BS quand n -> +inf\n",
    "BS = CallBS(S0,T,K,r,sigma) # valeur du call BS\n",
    "N = 10000\n",
    "CRR = np.zeros(N)\n",
    "for n in range(N):\n",
    "    CRR[n] = CallCRR2(n+1,S0,T,K,r,sigma) # valeur du call CRR pour n+1 étapes\n"
   ]
  },
  {
   "cell_type": "code",
   "execution_count": null,
   "metadata": {},
   "outputs": [],
   "source": [
    "plt.plot(BS*np.ones(N),'b',CRR,'r')"
   ]
  },
  {
   "cell_type": "code",
   "execution_count": null,
   "metadata": {},
   "outputs": [],
   "source": [
    "plt.loglog(abs(CRR[::2]-BS)) # convergence en O(1/n^2) car le droite est de pente -2"
   ]
  },
  {
   "cell_type": "code",
   "execution_count": null,
   "metadata": {},
   "outputs": [],
   "source": [
    "plt.loglog(abs(CRR[1::2]-BS)) # convergence en O(1/n) car le droite est de pente -1"
   ]
  },
  {
   "cell_type": "code",
   "execution_count": null,
   "metadata": {},
   "outputs": [],
   "source": [
    "plt.loglog(abs(CRR[::]-BS)) # convergence en O(1/n) dans le \"pire des cas\"\n",
    "# pente -2 sur les indices pairs, -1 sur les indices impairs\n",
    "# mais dans tous les cas (= pire des cas), on a une convergence en O(1/n)\n",
    "# ce qui reste meilleur que la convergence théorique du\n",
    "# théorème central limite en 1/sqrt(n) (qui donnerait une pente -1/2)"
   ]
  },
  {
   "cell_type": "code",
   "execution_count": null,
   "metadata": {},
   "outputs": [],
   "source": []
  }
 ],
 "metadata": {
  "kernelspec": {
   "display_name": "Python 3",
   "language": "python",
   "name": "python3"
  },
  "language_info": {
   "codemirror_mode": {
    "name": "ipython",
    "version": 3
   },
   "file_extension": ".py",
   "mimetype": "text/x-python",
   "name": "python",
   "nbconvert_exporter": "python",
   "pygments_lexer": "ipython3",
   "version": "3.8.1"
  }
 },
 "nbformat": 4,
 "nbformat_minor": 4
}
