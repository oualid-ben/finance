{
  "nbformat": 4,
  "nbformat_minor": 0,
  "metadata": {
    "colab": {
      "name": "Black-Scholes.ipynb",
      "provenance": [],
      "collapsed_sections": []
    },
    "kernelspec": {
      "name": "python3",
      "display_name": "Python 3"
    },
    "language_info": {
      "name": "python"
    }
  },
  "cells": [
    {
      "cell_type": "markdown",
      "metadata": {
        "id": "rB5xFGGDMUqy"
      },
      "source": [
        "# Résolution numérique de l’équation de Black-Scholes  par différence finie\n",
        "\n",
        "BEN MOHAMED Oualid <br>\n",
        "\n"
      ]
    },
    {
      "cell_type": "markdown",
      "metadata": {
        "id": "jisIqyRPNFOf"
      },
      "source": [
        "# Introduction\n",
        "Le but de ce projet est d’étudier l’équation est de résoudre Black-Scholes, en utilisant l'équation de la chaleur, pour modéliser la valeur d’un call européen. On commencera en définissant Black-Scholes. Dans un second temps, on exécutera les changements de variables pour passer de Black-Scholes à l’équation de la chaleur afin de calculer la solution exacte. Finalement on implémentera l'équation de la chaleur, celle-ci peut être résolue en utilisant trois différents schémas: Euler Explicite, Euler Implicite et Crank-Nicolson. Ces schémas seront définis, implémentés, analysés et comparés."
      ]
    },
    {
      "cell_type": "markdown",
      "metadata": {
        "id": "e7qeBHfUOoWC"
      },
      "source": [
        "Librairies nécessaire pour ce projet:"
      ]
    },
    {
      "cell_type": "code",
      "metadata": {
        "id": "gibyKjLUsdmi"
      },
      "source": [
        "import numpy as np\n",
        "\n",
        "import time\n",
        "\n",
        "from scipy.stats import *\n",
        "\n",
        "import matplotlib.pyplot as plt\n",
        "from mpl_toolkits.mplot3d import Axes3D"
      ],
      "execution_count": null,
      "outputs": []
    },
    {
      "cell_type": "markdown",
      "metadata": {
        "id": "GXo3pc-ShIRr"
      },
      "source": [
        "Vous reconnaitrez certainement la librarie $\"time\"$ qui nous sera utile pour l'analyse et la comparaison des différents schémas concernant la rapidité de calcul. Ou encore, la librairie $\"matplotlib\"$ pour tracer des graphes nous permettant de schématiser nos résultats. "
      ]
    },
    {
      "cell_type": "markdown",
      "metadata": {
        "id": "ByKX598STdfb"
      },
      "source": [
        "## 1) Passage de Black-Scholes à l'équation de la Chaleur\n",
        "\n",
        "\n"
      ]
    },
    {
      "cell_type": "markdown",
      "metadata": {
        "id": "BQ4vY4iqNW76"
      },
      "source": [
        "### 1.1 Black-Scholes\n",
        "La formule de Black-Scholes est utilisée pour calculer la valeur d’une option européenne en fonction du temps et de la valeur de l’action sous-jacente.\n",
        "\n",
        "L'équation est la suivante:\n",
        "\n",
        "$$\\frac{\\partial V}{\\partial t }+ \\frac{\\sigma^2 S^2}{2} \\frac{\\partial^2 V}{2 \\partial^2 S} + S.r. \\frac{\\partial V}{\\partial S} - rV = 0  $$  \n",
        "\n",
        "$V$: le prix de l’option d'un call européen  , on posera C=V, ce qu’on cherche à approcher <br>\n",
        "$S$ : prix du sous-jacent <br>\n",
        "$t$ : temps  <br>\n",
        "$r$ : taux sans risque <br>\n",
        "$\\sigma$ : volatilité du prix de l’action <br>\n",
        "$K$ : prix d’exercice fixé par l’option <br>\n",
        "\n"
      ]
    },
    {
      "cell_type": "code",
      "metadata": {
        "id": "zXIbKDBHth62"
      },
      "source": [
        "T = 1   #Maturité\n",
        "K = 100       # Strike\n",
        "r = 0.01        # Rendement\n",
        "sigma = 0.1    # Volatilité      "
      ],
      "execution_count": null,
      "outputs": []
    },
    {
      "cell_type": "markdown",
      "metadata": {
        "id": "ZqudiX1WQ1fK"
      },
      "source": [
        "### 1.2 Conditions initiales\n",
        "\n",
        "A la maturité $T$: $C(T,S) = max(S-K,0) $ <br>\n",
        "<br>\n",
        "Limite en 0:  $C(t,0) = max(S-K,0) $ <br> <br>\n",
        "Limite en $+\\infty$: $C(t,\\infty) = max(S-K,0) $"
      ]
    },
    {
      "cell_type": "markdown",
      "metadata": {
        "id": "qXWMcHOVtJj-"
      },
      "source": [
        "### 1.3 Changements de variables\n",
        "\n",
        "- $S = Ke^x $ \n",
        "\n",
        "- $ t = T - \\frac{\\tau}{0.5 \\sigma^2} $ \n",
        "\n",
        "- $ u = K\\exp(\\alpha x + \\beta \\tau ) u \\ $ . \n",
        "\n",
        "- $ k = \\frac{r}{0.5 \\sigma^2 } $ \n",
        "\n",
        "- $\\alpha = \\frac{-(k-1)}{2} $ \n",
        "\n",
        "- $ \\beta = \\alpha^2 +(k-1)\\alpha - k $ \n"
      ]
    },
    {
      "cell_type": "code",
      "metadata": {
        "id": "y2Vf_0nz2Wyf"
      },
      "source": [
        "#Changements de variable\n",
        "def t(tau):\n",
        "    return(T - 2*tau/(sigma**2))    \n",
        "\n",
        "def S(x):\n",
        "    return(K*np.exp(x))\n",
        "\n",
        "k = 2*r/(sigma**2)\n",
        "alpha = -(k-1)/2\n",
        "beta = (alpha**2) + (k-1)*alpha - k\n",
        "\n",
        "#Pay-off\n",
        "def u_to_call(u,M,N,x,tau):\n",
        "    V=np.zeros((M+1,2*N+1)) \n",
        "    for i in range(0,M+1):\n",
        "        for j in range(0,2*N+1):\n",
        "            V[i,j] = K * np.exp(alpha * x[j] + beta * tau[i]) * u[i,j]\n",
        "    return(V)"
      ],
      "execution_count": null,
      "outputs": []
    },
    {
      "cell_type": "markdown",
      "metadata": {
        "id": "3HCj_bw0We8O"
      },
      "source": [
        "### 1.4) Equation de la chaleur\n",
        "Après tous ces changements de variables on tombe sur l'équation de la chaleur suivante:\n",
        "$$\\frac{\\partial u}{\\partial \\tau}=\\frac{\\partial^2 u }{\\partial^2 x } $$ \n",
        "\n",
        "Avec condition initiale:\n",
        "$$ u(0,x) = u_0(x) = max(\\exp(\\frac{k+1}{2}x) - \\exp(\\frac{k-1}{2}x) , 0  ) $$\n",
        "\n",
        "Et de solution **analytique**:\n",
        "$$u(\\tau , x ) = \\frac{1}{2\\sqrt{\\pi \\tau}} \\int_{- \\infty}^{+\\infty} u_0(y) \\exp(\\frac{-(x-y)^2}{4\\tau}) d\\tau $$ "
      ]
    },
    {
      "cell_type": "markdown",
      "metadata": {
        "id": "-TZbRw1faTlA"
      },
      "source": [
        "### 1.5) Discrétisation\n",
        "\n",
        "Pour résoudre l'équation nous devons discrétiser le domaine.\n",
        "\n",
        "Le prix d'une option dépend de deux paramètres: le temps $t$ et le sous-jacent $S_t$ que nous noterons $x$ par simplification. \n",
        "\n",
        "<br>\n",
        "\n",
        "1.5.1) Discretisation en temps:\n",
        "\n",
        "En temps, $[0,\\frac{1}{2 \\sigma^2 }]$ est remplacé par $ [τ0, τ1, . . . , τM]$ ($M$ étant le nombre de points choisis) avec:\n",
        "\n",
        "\n",
        "\n",
        "*  $\\Delta\\tau = \\frac{\\tau_M - \\tau_0}{M} $ le pas de temps\n",
        "* $τ_i = i \\Delta\\tau , 0 ≤ i ≤ M$ \n",
        "* $M \\Delta\\tau =\\frac{1}{2 \\sigma^2 }$\n",
        "\n",
        "\n",
        "\n",
        "<br>\n",
        "\n",
        "1.5.2) Discretisation en espace:\n",
        "\n",
        "On choisit un nombre de points $N$, ainsi notre domaine sera :\n",
        "\n",
        "*   $[-N\\Delta x ; N \\Delta x ]$ , avec $x_j = j\\Delta x $ \n",
        "*   $\\Delta x = \\frac{|x_{sup} - x_{inf} | }{2N} $ \n"
      ]
    },
    {
      "cell_type": "code",
      "metadata": {
        "id": "fcTv2rHQx3Sk"
      },
      "source": [
        "def discretisation(M,N):\n",
        "    xinf = -1\n",
        "    xsup = 1\n",
        "    dx = abs(xsup - xinf)/(2*N)     # Pas en espace\n",
        "    x = np.arange(xinf,xsup+dx,dx) \n",
        "\n",
        "\n",
        "    tau0 = 0\n",
        "    tauT = (sigma**2)*T/2     \n",
        "    dtau = (tauT - tau0)/M     # Pas en temps\n",
        "    tau = np.arange(tau0,tauT+dtau,dtau)\n",
        "\n",
        "    return x,tau,dx,dtau\n",
        "         \n",
        "M = 101     \n",
        "N = 100 \n",
        "x,tau,dx,dtau = discretisation(M,N)"
      ],
      "execution_count": null,
      "outputs": []
    },
    {
      "cell_type": "markdown",
      "metadata": {
        "id": "tpqjy7XpDxGp"
      },
      "source": [
        "## 1) Passage de solution équation de la Chaleur à solution BS\n",
        "On connait donc la solution exacte de l'équation de la chaleur:\n",
        "\n",
        "$$u(\\tau , x ) = \\frac{1}{2\\sqrt{\\pi \\tau}} \\int_{- \\infty}^{+\\infty} u_0(y) \\exp(\\frac{-(x-y)^2}{4\\tau}) d\\tau $$ \n",
        "\n",
        "Avec des changements de variables inverses, on obtient la solution de Black Scholes pour un call européen :\n",
        "\n",
        "$$C(t,S) = S\\mathcal{N}(d_1) - Ke^{-r(T-t)}\\mathcal{N}(d_2) $$ \n",
        "\n",
        "où : \n",
        "\n",
        "$$ d_1 = \\frac{\\ln(\\frac{S}{K}) + ( r+\\frac{1}{2}\\sigma^2)(T-t)}{\\sigma \\sqrt{(T-t)}} $$ \n",
        "\n",
        "$$ d_2 = \\frac{\\ln(\\frac{S}{K}) + ( r-\\frac{1}{2}\\sigma^2)(T-t)}{\\sigma \\sqrt{(T-t)}} $$ \n",
        "\n",
        "$$ \\mathcal{N}(d) = \\frac{1}{\\sqrt{2\\pi}} \\int_{-\\infty}^d e^{-\\frac{s^2}{2}} ds = P(\\mathcal{N}(0,1) \\leq d )  $$ \n"
      ]
    },
    {
      "cell_type": "code",
      "metadata": {
        "id": "VHvs2MQuzx2d"
      },
      "source": [
        "#Implementation Solution Black Scholes\n",
        "def exact_sol_call(M,N,tau,x):\n",
        "  u=np.zeros((M+1,2*N+1))  \n",
        "  for j in range(0,2*N+1):\n",
        "    Sj = S(x[j]) \n",
        "    for i in range(0,M+1):            \n",
        "      temps = t(tau[i])\n",
        "      if(temps == T) :\n",
        "        u[i,j] = max(Sj - K, 0)       \n",
        "      else :\n",
        "        d1 = (np.log(Sj/K) + (r + 0.5*sigma**2)*(T - temps))/(sigma *np.sqrt(T - temps))\n",
        "        d2 = (np.log(Sj/K) + (r - 0.5*sigma**2)*(T - temps))/(sigma *np.sqrt(T - temps))\n",
        "        u[i,j] = Sj*norm.cdf(d1) - K*np.exp(-r*(T-temps))*norm.cdf(d2)\n",
        "  return(u)"
      ],
      "execution_count": null,
      "outputs": []
    },
    {
      "cell_type": "code",
      "metadata": {
        "colab": {
          "base_uri": "https://localhost:8080/"
        },
        "id": "GvGa1LeA0bpq",
        "outputId": "325a6a83-2647-4393-e931-cfcaf66e574c"
      },
      "source": [
        "t_0 = time.time()\n",
        "u_exact = exact_sol_call(M,N,tau,x)\n",
        "t_1 = time.time()\n",
        "t=t_1-t_0\n",
        "print(\"Temps d'exécution de la solution exacte:\",t)"
      ],
      "execution_count": null,
      "outputs": [
        {
          "output_type": "stream",
          "name": "stdout",
          "text": [
            "Temps d'exécution de la solution exacte: 4.332123756408691\n"
          ]
        }
      ]
    },
    {
      "cell_type": "code",
      "metadata": {
        "colab": {
          "base_uri": "https://localhost:8080/",
          "height": 276
        },
        "id": "79gpaK7j0cfn",
        "outputId": "1161874d-3b1a-46e1-80e6-5537f7e357ca"
      },
      "source": [
        "# plot 3D : \n",
        "X0,TAU0 = np.meshgrid(x,tau)\n",
        "fig0 = plt.figure()\n",
        "ax0 = fig0.gca(projection = '3d')\n",
        "surf0 = ax0.plot_surface(X0,TAU0,u_exact, rstride=1, cstride=1, cmap='hsv', linewidth=0, antialiased=False)\n",
        "fig0.colorbar(surf0, shrink=0.75, aspect=20)\n",
        "fig0.suptitle(\"Modélisation de la solution exacte\")\n",
        "ax0.set_xlabel(\"Espace\")\n",
        "ax0.set_ylabel(\"Temps\")\n",
        "ax0.set_zlabel(\"Prix de l'option\")\n",
        "plt.show()"
      ],
      "execution_count": null,
      "outputs": [
        {
          "output_type": "display_data",
          "data": {
            "image/png": "[encoded data removed]",
            "text/plain": [
              "<Figure size 432x288 with 2 Axes>"
            ]
          },
          "metadata": {
            "needs_background": "light"
          }
        }
      ]
    },
    {
      "cell_type": "markdown",
      "metadata": {
        "id": "qXAHAYjALg3K"
      },
      "source": [
        "# 2) Schémas aux différences finies"
      ]
    },
    {
      "cell_type": "markdown",
      "metadata": {
        "id": "78kTWw35LbvY"
      },
      "source": [
        "Si on se place à un instant $τ$ donné, et si on suppose qu’on connait la solution $u(x, τ )$, on souhaite calculer la dérivée temporelle $\\frac{\\ ∂u(x, τ )}{∂τ} $. <br>\n",
        "\n",
        "Supposons que la solution soit connue aux instants $τ − \\Delta\\tau$ et $τ + \\Delta\\tau$ . Il existe alors plusieurs schémas aux\n",
        "différences finies pour approcher la valeur de la dérivée temporelle."
      ]
    },
    {
      "cell_type": "markdown",
      "metadata": {
        "id": "IotuPm86x794"
      },
      "source": [
        "## Schéma Euler Explicite\n",
        "\n"
      ]
    },
    {
      "cell_type": "markdown",
      "metadata": {
        "id": "12P4i1zwOrhn"
      },
      "source": [
        "Une première approximation de la dérivée partielle de u est donnée par la formule des différences finies décentrée à droite :\n",
        "\n",
        "$$\\frac{u^j_{i+1} - u^j_{i}}{\\Delta \\tau} = \\frac{u^{j+1}_{i} - 2*u^j_{i} + u^{j-1}_{i}}{\\Delta x^2}  $$\n",
        "\n",
        " $$ \\iff u^j_{i+1} = u^j_{i} + \\frac{\\Delta \\tau}{\\Delta x}(u^{j+1}_{i} - 2*u^j_{i} + u^{j-1}_{i})$$\n",
        "\n",
        "\n",
        "<br>\n",
        "Il est précis d'ordre 1 en temps et d'ordre 2 en espace. \n",
        "\n",
        "<br>\n",
        "C'est un schéma stable si et seulement si $ \\gamma=\\frac{\\Delta \\tau}{\\Delta x} < \\frac{1}{2} $ \n"
      ]
    },
    {
      "cell_type": "code",
      "metadata": {
        "id": "ePyPcs0Y3IKE"
      },
      "source": [
        "gamma = dtau/dx**2  # Condition de stabilité : gamma doit être inférieur à 1/2 "
      ],
      "execution_count": null,
      "outputs": []
    },
    {
      "cell_type": "markdown",
      "metadata": {
        "id": "t2LuJMNaRr7I"
      },
      "source": [
        "Conditions initiales pour Euler Explicite:\n",
        "\n",
        "- $u^j_0 = u_0(j \\Delta x )  ;\\qquad \\forall -N\\leq j \\leq N $ \n",
        "- $u^{-N}_i = 0 \\; ;\\qquad   \\forall \\;  0 \\leq i \\leq M $ \n",
        "- $u^N_i = (e^{x_N} - e^{-r(T-\\tau_i)}). e^{-\\alpha. x_N - \\beta. t_i } ;\\qquad  \\forall \\;  0 \\leq i \\leq M $ "
      ]
    },
    {
      "cell_type": "code",
      "metadata": {
        "id": "47HDsL3R00ie"
      },
      "source": [
        "def u_0_call(x): #condition initiale pour un call\n",
        "  return(max(np.exp(((k+1)/2) * x) - np.exp(((k-1)/2) * x) , 0))"
      ],
      "execution_count": null,
      "outputs": []
    },
    {
      "cell_type": "code",
      "metadata": {
        "id": "pELZPag-3RIG"
      },
      "source": [
        "def euler_explicite(gamma,M,N,x,tau):\n",
        "    u = np.zeros((M+1,2*N+1))\n",
        "\n",
        "#Conditions initiales pour un call \n",
        "    for j in range(0,2*N+1):\n",
        "        u[0,j] = u_0_call(x[j])\n",
        "    u[1:M+1,0] = 0 \n",
        "\n",
        "    for j in range(1,M+1):\n",
        "        u[j,2*N] = (np.exp(x[2*N]) - np.exp(-r*(T-tau[j]))) * np.exp(-alpha * x[2*N] - beta * tau[j])\n",
        "    for j in range(1,M+1):\n",
        "        u[j,1:2*N] = (1-2*gamma)*u[j-1,1:2*N]+gamma*(u[j-1,0:2*N-1] + u[j-1,2:2*N+1])\n",
        "    return(u)"
      ],
      "execution_count": null,
      "outputs": []
    },
    {
      "cell_type": "code",
      "metadata": {
        "colab": {
          "base_uri": "https://localhost:8080/"
        },
        "id": "EnY1PVdo3ZVH",
        "outputId": "98ec08a6-349b-4e64-d478-00403b265e5e"
      },
      "source": [
        "t_exp_0 = time.time()\n",
        "u_exp = euler_explicite(gamma,M,N,x,tau)\n",
        "call_exp = u_to_call(u_exp,M,N,x,tau)\n",
        "t_exp_1 = time.time()\n",
        "T_Execution_Euler_explicite=t_exp_1-t_exp_0 \n",
        "print(\"temps d'exécution d'Euler Explicite=\",T_Execution_Euler_explicite)\n"
      ],
      "execution_count": null,
      "outputs": [
        {
          "output_type": "stream",
          "name": "stdout",
          "text": [
            "temps d'exécution d'Euler Explicite= 0.06654930114746094\n"
          ]
        }
      ]
    },
    {
      "cell_type": "code",
      "metadata": {
        "colab": {
          "base_uri": "https://localhost:8080/",
          "height": 276
        },
        "id": "IvJqiCWS4BXT",
        "outputId": "ba383ade-192f-4585-bcd9-a6eb75dbeef1"
      },
      "source": [
        "# plot 3D : \n",
        "X,TAU = np.meshgrid(x,tau)\n",
        "fig = plt.figure()\n",
        "ax = fig.gca(projection = '3d')\n",
        "surf = ax.plot_surface(X,TAU,call_exp, rstride=1, cstride=1, cmap='hsv', linewidth=0, antialiased=False)\n",
        "fig.colorbar(surf, shrink=0.75, aspect=20)\n",
        "fig.suptitle(\"Modélisation par Euler Explicite d'une option Call\")\n",
        "ax.set_xlabel(\"Espace\")\n",
        "ax.set_ylabel(\"Temps\")\n",
        "ax.set_zlabel(\"Prix de l'option CALL\")\n",
        "plt.show()"
      ],
      "execution_count": null,
      "outputs": [
        {
          "output_type": "display_data",
          "data": {
            "image/png": "[encoded data removed]",
            "text/plain": [
              "<Figure size 432x288 with 2 Axes>"
            ]
          },
          "metadata": {
            "needs_background": "light"
          }
        }
      ]
    },
    {
      "cell_type": "markdown",
      "metadata": {
        "id": "liB2RTQOdLrG"
      },
      "source": [
        "On obtient un graphique très similaire à celui de la solution exacte, le schéma converge. De plus, les valeurs sont cohérentes: \n",
        "\n",
        "-Quand le prix S du sous-jacent  (abscisse \"espace\") augmente le prix de de l'option augmente.\n",
        "\n",
        "-Quand le prix S tend vers 0  (abscisse \"espace\") le prix tend vers 0.\n",
        "\n",
        "on en déduit que notre schéma Euler Explicite marche."
      ]
    },
    {
      "cell_type": "markdown",
      "metadata": {
        "id": "s4U0SrlBCuGT"
      },
      "source": [
        "##Euler Implicite\n",
        "\n",
        "Une deuxième approximation de la dérivée partielle de u est donneé par la formule des différences finies décentrées à gauche :\n",
        "\n",
        "$$\\frac{u^j_{i} - u^j_{i-1}}{\\Delta \\tau} = \\frac{u^{j+1}_{i} - 2*u^j_{i} + u^{j-1}_{i}}{\\Delta x^2}  $$\n",
        "\n",
        " $$ \\iff u^j_{i-1} = -\\frac{\\Delta \\tau}{\\Delta x} u^{j-1}_{i} + (1 + 2\\frac{\\Delta \\tau}{\\Delta x})u^j_{i} - \\frac{\\Delta \\tau}{\\Delta x}u^{j+1}_{i}$$\n",
        "\n",
        "$$ \\iff u^j_{i-1} = -\\gamma u^{j-1}_{i} + (1 + 2\\gamma)u^j_{i} - \\gamma u^{j+1}_{i}$$\n",
        "\n",
        "$$ \\iff AU_i = U_{i-1} + \\gamma b_i  $$ où $b_i = [ u_i^{-N} 0 \\cdots 0 u_i^{N} ]^T$  représente les conditions aux bords, et $U_i$ étant la seul inconnue.\n",
        "\n",
        "<br>\n",
        "Il est précis d'ordre 1 en temps et d'ordre 2 en espace. \n",
        "\n",
        "<br>\n",
        "\n",
        "C'est schéma conditionnellement stable $ "
      ]
    },
    {
      "cell_type": "markdown",
      "metadata": {
        "id": "ASWtnOKa5D14"
      },
      "source": [
        "La matrice A est de la forme:\n",
        "$$ A= \\begin{pmatrix}\n",
        "1+2\\gamma &-\\gamma &0& \\cdots&0\\\\\n",
        "-\\gamma &\\ddots&\\ddots&\\ddots&\\vdots\\\\\n",
        "0& \\ddots&\\ddots&\\ddots&0\\\\\n",
        "\\vdots&\\ddots&\\ddots&\\ddots&-\\gamma\\\\\n",
        "0&\\cdots & 0 &-\\gamma & 1+2\\gamma\n",
        "\\end{pmatrix}\\; ;\\; $$\n",
        "\n"
      ]
    },
    {
      "cell_type": "code",
      "metadata": {
        "id": "mXhpOrJCEMYZ"
      },
      "source": [
        "def Matriciel_Implicite(n): #Matrice tridiagonale \n",
        "  A = np.diag(np.linspace(1+2*gamma,1+2*gamma,2*n-1)) + np.diag(np.linspace(-gamma,-gamma,2*n-2),-1) + np.diag(np.linspace(-gamma,-gamma,2*n-2),1)\n",
        "  return(A)\n"
      ],
      "execution_count": null,
      "outputs": []
    },
    {
      "cell_type": "markdown",
      "metadata": {
        "id": "Hg6S2DaK5eD3"
      },
      "source": [
        "Pour trouver la solution $U_i$ nous devons inverser la matrice $A$(qui est inversible):\n",
        "$$  AU_i = U_{i-1} + \\gamma b_i  $$\n",
        "\n",
        "$$ \\iff U_i = A^{-1} (U_{i-1} + \\gamma b_i)  $$\n",
        "\n",
        "On utilisera la décomposition en $LU$ pour inverser $A$."
      ]
    },
    {
      "cell_type": "code",
      "metadata": {
        "id": "hW7xbXmeE5IU"
      },
      "source": [
        "# Décomposition LU\n",
        "def decomposition_LU(gamma,N):\n",
        "  l = np.linspace(0,0,2*N-2)\n",
        "  u = np.linspace(0,0,2*N-1)\n",
        "  u[0] = 1 + 2*gamma\n",
        "\n",
        "  for i in range(0,2*N-2):\n",
        "      u[i+1] = 1 + 2*gamma - gamma**2/u[i]\n",
        "      l[i] = - gamma/u[i]\n",
        "  return(l,u)"
      ],
      "execution_count": null,
      "outputs": []
    },
    {
      "cell_type": "code",
      "metadata": {
        "id": "Ov8FN5TcFndQ"
      },
      "source": [
        "def euler_implicite(gamma,M,N,x,tau):\n",
        "    u = np.zeros((M+1,2*N+1))\n",
        "    \n",
        "    # Initialisation à tau=0\n",
        "    for j in range(0,2*N+1):\n",
        "      u[0,j] = u_0_call(x[j])\n",
        "        \n",
        "    # conditions aux bords d'un call\n",
        "    u[1:M+1,0] = 0     \n",
        "    for j in range(1,M+1):\n",
        "      u[j,2*N] = (np.exp(x[2*N]) - np.exp(-r*(T-tau[j]))) * np.exp(-alpha * x[2*N] - beta * tau[j])\n",
        "    li = decomposition_LU(gamma,N)[0]\n",
        "    ui = decomposition_LU(gamma,N)[1]  \n",
        "    b = np.linspace(0,0,2*N-1)\n",
        "    y = np.linspace(0,0,2*N-1)   \n",
        "    for j in range(1,M+1):\n",
        "      b = u[j-1,1:2*N]\n",
        "      y[0] = b[0]+gamma*u[j,0]\n",
        "\n",
        "      for i in range(1,2*N-1): #algorithme de descente\n",
        "          y[i] = b[i] - li[i-1]*y[i-1]\n",
        "      y[2*N-2] = y[2*N-2]+gamma*u[j,2*N]\n",
        "      u[j,2*N-1] = y[-1]/ui[-1]\n",
        "\n",
        "      for i in range(2*N-2,0,-1): ##algorithme de montee\n",
        "          u[j,i] = (y[i-1] + gamma*u[j,i+1])/ui[i-1]\n",
        "    return(u)"
      ],
      "execution_count": null,
      "outputs": []
    },
    {
      "cell_type": "code",
      "metadata": {
        "colab": {
          "base_uri": "https://localhost:8080/"
        },
        "id": "7E77etzwKppl",
        "outputId": "52475ef1-b373-417e-eece-aca582a04226"
      },
      "source": [
        "M = 101     \n",
        "N = 100 \n",
        "x,tau,dx,dtau = discretisation(M,N)\n",
        "\n",
        "t_imp_0 = time.time()\n",
        "u_EI = euler_implicite(gamma,M,N,x,tau)\n",
        "call_EI = u_to_call(u_EI,M,N,x,tau)\n",
        "t_imp_1 = time.time()\n",
        "t=t_imp_1-t_imp_0\n",
        "print(\"temps d'execution d'Euler Implicite : \",t)"
      ],
      "execution_count": null,
      "outputs": [
        {
          "output_type": "stream",
          "name": "stdout",
          "text": [
            "temps d'execution d'Euler Implicite :  0.0914151668548584\n"
          ]
        }
      ]
    },
    {
      "cell_type": "code",
      "metadata": {
        "colab": {
          "base_uri": "https://localhost:8080/",
          "height": 276
        },
        "id": "ahHTAalZK1xW",
        "outputId": "8aeb0fc5-0634-487b-fb1d-4f0810704cf6"
      },
      "source": [
        "# plot 3D : \n",
        "\n",
        "X2,TAU2 = np.meshgrid(x,tau)\n",
        "fig2 = plt.figure()\n",
        "ax2 = fig2.gca(projection = '3d')\n",
        "surf2 = ax2.plot_surface(X2,TAU2,call_EI, rstride=1, cstride=1, cmap='hsv', linewidth=0, antialiased=False)\n",
        "fig2.colorbar(surf2, shrink=0.75, aspect=20)\n",
        "fig2.suptitle(\"Modélisation par Euler Implicite d'un Call\")\n",
        "ax2.set_xlabel(\"Espace\")\n",
        "ax2.set_ylabel(\"Temps\")\n",
        "ax2.set_zlabel(\"Prix de l'option CALL\")\n",
        "plt.show()\n"
      ],
      "execution_count": null,
      "outputs": [
        {
          "output_type": "display_data",
          "data": {
            "image/png": "[encoded data removed]",
            "text/plain": [
              "<Figure size 432x288 with 2 Axes>"
            ]
          },
          "metadata": {
            "needs_background": "light"
          }
        }
      ]
    },
    {
      "cell_type": "markdown",
      "metadata": {
        "id": "qh5jtZGuozh-"
      },
      "source": [
        "On obtient un graphique très similaire à celui de la solution exacte, ainsi que du Schéma Explicite traité précédemment. De plus, les valeurs sont cohérentes, on peut alors s'avancer sur le fait que notre schéma Euler Implicite est opérationnel."
      ]
    },
    {
      "cell_type": "markdown",
      "metadata": {
        "id": "egJ-ze-XSk-U"
      },
      "source": [
        "##Crank-Nicolson"
      ]
    },
    {
      "cell_type": "code",
      "metadata": {
        "id": "yfxvPPfuSTn3"
      },
      "source": [
        "def Crank_Nicolson(gamma,M,N,x,tau):\n",
        "    u = np.zeros((M+1,2*N+1))\n",
        "    \n",
        "    # Initialisation à tau=0\n",
        "    for j in range(0,2*N+1):\n",
        "      u[0,j] = u_0_call(x[j])\n",
        "        \n",
        "    # conditions aux bords d'un call\n",
        "    u[1:M+1,0] = 0     \n",
        "    for j in range(1,M+1):\n",
        "      u[j,2*N] = (np.exp(x[2*N]) - np.exp(-r*(T-tau[j]))) * np.exp(-alpha * x[2*N] - beta * tau[j])\n",
        "    li = decomposition_LU(gamma,N)[0]\n",
        "    ui = decomposition_LU(gamma,N)[1]  \n",
        "    b = np.linspace(0,0,2*N-1)\n",
        "    y = np.linspace(0,0,2*N-1)   \n",
        "    for j in range(1,M+1):\n",
        "      b[0] = (1-gamma)*u[j-1,1]+1/2*gamma*u[j-1,N]+1/2*gamma*u[j,0]\n",
        "      y[0] = b[0]\n",
        "\n",
        "      for i in range(1,2*N-1): #algorithme de descente\n",
        "          b[i]=(1 - gamma)*u[j-1,i-1] + 1/2 * gamma *( u[j-1,i-2] + u[j-1,i] )\n",
        "          y[i] = b[i] - li[i-1]*y[i-1]\n",
        "      y[2*N-2] = b[2*N-2]+li[2*N-2]*y[2*N-3]\n",
        "      u[j,2*N-1] = y[-1]/ui[-1]\n",
        "\n",
        "      for i in range(2*N-2,0,-1): ##algorithme de montee\n",
        "          u[j,i] = (y[i-1] + gamma*u[j,i+1])/ui[i-1]\n",
        "    return(u)"
      ],
      "execution_count": null,
      "outputs": []
    },
    {
      "cell_type": "code",
      "metadata": {
        "id": "qHpK8ieldQ7P"
      },
      "source": [
        "t_imp_0 = time.time()\n",
        "u_CN = Crank_Nicolson(gamma,M,N,x,tau)\n",
        "call_CN = u_to_call(u_CN,M,N,x,tau)\n",
        "t_imp_1 = time.time()\n",
        "t=t_imp_1-t_imp_0\n",
        "print(\"temps d'execution de Crank Nicolson : \",t)"
      ],
      "execution_count": null,
      "outputs": []
    },
    {
      "cell_type": "code",
      "metadata": {
        "id": "F3TUgc6KdaKQ"
      },
      "source": [
        "# plot 3D : \n",
        "X2,TAU2 = np.meshgrid(x,tau)\n",
        "fig2 = plt.figure()\n",
        "ax2 = fig2.gca(projection = '3d')\n",
        "surf2 = ax2.plot_surface(X2,TAU2,call_CN, rstride=1, cstride=1, cmap='hsv', linewidth=0, antialiased=False)\n",
        "fig2.colorbar(surf2, shrink=0.75, aspect=20)\n",
        "fig2.suptitle(\"Modélisation par Crank-Nicolson d'un Call\")\n",
        "ax2.set_xlabel(\"Espace\")\n",
        "ax2.set_ylabel(\"Temps\")\n",
        "ax2.set_zlabel(\"Prix de l'option CALL\")\n",
        "plt.show()"
      ],
      "execution_count": null,
      "outputs": []
    },
    {
      "cell_type": "markdown",
      "metadata": {
        "id": "dXMB1QjmbDL6"
      },
      "source": [
        "# Comparaison des schémas\n",
        "\n",
        "\n",
        "Le schéma de Crank-Nicolson permet de gagner un ordre en temps.\n",
        "\n",
        "On constate que les trois schémas ont le même coût de calcul: $ \\sigma(N)$ avec N le nombre points.\n",
        "\n",
        "En temps de  calcul, nous avons remarqué que Euleur est le plus lent , puis Implicite et ensuite CN le plus rapide\n",
        "\n",
        "Crank-Nicolson est en orde 2 en temps donc permet de gagner un ordre en temps ce qui implique qu'il est plus rapide que les deux autres shemas car on a besoin de moins de points. Parmi les theta-schemas qu'on a testé, on trouve que avec $ \\theta=1/2$ c'est-à-dire Crank-Nicolson est le meilleur.\n",
        "\n",
        "\n"
      ]
    }
  ]
}